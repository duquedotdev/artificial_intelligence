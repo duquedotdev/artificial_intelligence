{
  "nbformat": 4,
  "nbformat_minor": 0,
  "metadata": {
    "colab": {
      "name": "Sistema de Recomendação por Filtragem Colaborativa.ipynb",
      "provenance": [],
      "authorship_tag": "ABX9TyNw1LaXsg7M12uJqPsxQSYN",
      "include_colab_link": true
    },
    "kernelspec": {
      "name": "python3",
      "display_name": "Python 3"
    }
  },
  "cells": [
    {
      "cell_type": "markdown",
      "metadata": {
        "id": "view-in-github",
        "colab_type": "text"
      },
      "source": [
        "<a href=\"https://colab.research.google.com/github/duquedotdev/artificial_intelligence/blob/master/Sistema_de_Recomenda%C3%A7%C3%A3o_por_Filtragem_Colaborativa.ipynb\" target=\"_parent\"><img src=\"https://colab.research.google.com/assets/colab-badge.svg\" alt=\"Open In Colab\"/></a>"
      ]
    },
    {
      "cell_type": "markdown",
      "metadata": {
        "id": "XNJM725kzR1Y"
      },
      "source": [
        "#Sistema de recomendação por Filtragem Colaborativa\n",
        "\n",
        "\n",
        "\n",
        "\n"
      ]
    },
    {
      "cell_type": "markdown",
      "metadata": {
        "id": "-PoIRjggznw6"
      },
      "source": [
        "* O processo de filtragem colaborativa envolve dois passos: Calcular a similaridade entre os usuários, e calcular as recomendações para os filmes não assistidos."
      ]
    },
    {
      "cell_type": "code",
      "metadata": {
        "id": "RFjIZWUOyKPn"
      },
      "source": [
        ""
      ],
      "execution_count": null,
      "outputs": []
    }
  ]
}