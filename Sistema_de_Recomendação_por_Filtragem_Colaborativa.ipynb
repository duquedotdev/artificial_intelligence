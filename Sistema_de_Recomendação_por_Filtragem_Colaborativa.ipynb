{
  "nbformat": 4,
  "nbformat_minor": 0,
  "metadata": {
    "colab": {
      "name": "Sistema de Recomendação por Filtragem Colaborativa.ipynb",
      "provenance": [],
      "collapsed_sections": [],
      "mount_file_id": "1NM6Xi5JnHytYmYokWGEYDJk3WaZn73K2",
      "authorship_tag": "ABX9TyPCkfvlIr6mGb9oEYf5LSC4",
      "include_colab_link": true
    },
    "kernelspec": {
      "name": "python3",
      "display_name": "Python 3"
    }
  },
  "cells": [
    {
      "cell_type": "markdown",
      "metadata": {
        "id": "view-in-github",
        "colab_type": "text"
      },
      "source": [
        "<a href=\"https://colab.research.google.com/github/duquedotdev/artificial_intelligence/blob/master/Sistema_de_Recomenda%C3%A7%C3%A3o_por_Filtragem_Colaborativa.ipynb\" target=\"_parent\"><img src=\"https://colab.research.google.com/assets/colab-badge.svg\" alt=\"Open In Colab\"/></a>"
      ]
    },
    {
      "cell_type": "markdown",
      "metadata": {
        "id": "XNJM725kzR1Y"
      },
      "source": [
        "#Sistema de recomendação por Filtragem Colaborativa\n",
        "\n",
        "\n",
        "\n",
        "\n"
      ]
    },
    {
      "cell_type": "markdown",
      "metadata": {
        "id": "-PoIRjggznw6"
      },
      "source": [
        "* O processo de filtragem colaborativa envolve dois passos: Calcular a similaridade entre os usuários, e calcular as recomendações para os filmes não assistidos."
      ]
    },
    {
      "cell_type": "markdown",
      "metadata": {
        "id": "3aBNc5486188"
      },
      "source": [
        "### Dataset"
      ]
    },
    {
      "cell_type": "code",
      "metadata": {
        "id": "RFjIZWUOyKPn"
      },
      "source": [
        "# Dataset\n",
        "avaliacoesUsuario = {'Ana': \n",
        "\t\t{'Freddy x Jason': 2.5, \n",
        "\t\t 'O Ultimato Bourne': 3.5,\n",
        "\t\t 'Star Trek': 3.0, \n",
        "\t\t 'Exterminador do Futuro': 3.5, \n",
        "\t\t 'Norbit': 2.5, \n",
        "\t\t 'Star Wars': 3.0},\n",
        "\t \n",
        "\t  'Marcos': \n",
        "\t\t{'Freddy x Jason': 3.0, \n",
        "\t\t 'O Ultimato Bourne': 3.5, \n",
        "\t\t 'Star Trek': 1.5, \n",
        "\t\t 'Exterminador do Futuro': 5.0, \n",
        "\t\t 'Star Wars': 3.0, \n",
        "\t\t 'Norbit': 3.5}, \n",
        "\n",
        "\t  'Pedro': \n",
        "\t    {'Freddy x Jason': 2.5, \n",
        "\t\t 'O Ultimato Bourne': 3.0,\n",
        "\t\t 'Exterminador do Futuro': 3.5, \n",
        "\t\t 'Star Wars': 4.0},\n",
        "\t\t\t \n",
        "\t  'Claudia': \n",
        "\t\t{'O Ultimato Bourne': 3.5, \n",
        "\t\t 'Star Trek': 3.0,\n",
        "\t\t 'Star Wars': 4.5, \n",
        "\t\t 'Exterminador do Futuro': 4.0, \n",
        "\t\t 'Norbit': 2.5},\n",
        "\t\t\t\t \n",
        "\t  'Adriano': \n",
        "\t\t{'Freddy x Jason': 3.0, \n",
        "\t\t 'O Ultimato Bourne': 4.0, \n",
        "\t\t 'Star Trek': 2.0, \n",
        "\t\t 'Exterminador do Futuro': 3.0, \n",
        "\t\t 'Star Wars': 3.0,\n",
        "\t\t 'Norbit': 2.0}, \n",
        "\n",
        "\t  'Janaina': \n",
        "\t     {'Freddy x Jason': 3.0, \n",
        "\t      'O Ultimato Bourne': 4.0,\n",
        "\t      'Star Wars': 3.0, \n",
        "\t      'Exterminador do Futuro': 5.0, \n",
        "\t      'Norbit': 3.5},\n",
        "\t\t\t  \n",
        "\t  'Leonardo': \n",
        "\t    {'O Ultimato Bourne':4.5,\n",
        "             'Norbit':1.0,\n",
        "\t     'Exterminador do Futuro':4.0}\n",
        "}\n",
        "\n",
        "avaliacoesFilme = {'Freddy x Jason': \n",
        "\t\t{'Ana': 2.5, \n",
        "\t\t 'Marcos:': 3.0 ,\n",
        "\t\t 'Pedro': 2.5, \n",
        "\t\t 'Adriano': 3.0, \n",
        "\t\t 'Janaina': 3.0 },\n",
        "\t \n",
        "\t 'O Ultimato Bourne': \n",
        "\t\t{'Ana': 3.5, \n",
        "\t\t 'Marcos': 3.5,\n",
        "\t\t 'Pedro': 3.0, \n",
        "\t\t 'Claudia': 3.5, \n",
        "\t\t 'Adriano': 4.0, \n",
        "\t\t 'Janaina': 4.0,\n",
        "\t\t 'Leonardo': 4.5 },\n",
        "\t\t\t\t \n",
        "\t 'Star Trek': \n",
        "\t\t{'Ana': 3.0, \n",
        "\t\t 'Marcos:': 1.5,\n",
        "\t\t 'Claudia': 3.0, \n",
        "\t\t 'Adriano': 2.0 },\n",
        "\t\n",
        "\t 'Exterminador do Futuro': \n",
        "\t\t{'Ana': 3.5, \n",
        "\t\t 'Marcos:': 5.0 ,\n",
        "\t\t 'Pedro': 3.5, \n",
        "\t\t 'Claudia': 4.0, \n",
        "\t\t 'Adriano': 3.0, \n",
        "\t\t 'Janaina': 5.0,\n",
        "\t\t 'Leonardo': 4.0},\n",
        "\t\t\t\t \n",
        "\t 'Norbit': \n",
        "\t\t{'Ana': 2.5, \n",
        "\t\t 'Marcos:': 3.0 ,\n",
        "\t\t 'Claudia': 2.5, \n",
        "\t\t 'Adriano': 2.0, \n",
        "\t\t 'Janaina': 3.5,\n",
        "\t\t 'Leonardo': 1.0},\n",
        "\t\t\t\t \n",
        "\t 'Star Wars': \n",
        "\t\t{'Ana': 3.0, \n",
        "\t\t 'Marcos:': 3.5,\n",
        "\t\t 'Pedro': 4.0, \n",
        "\t\t 'Claudia': 4.5, \n",
        "\t\t 'Adriano': 3.0, \n",
        "\t\t 'Janaina': 3.0}\n",
        "}\n",
        "\n"
      ],
      "execution_count": 20,
      "outputs": []
    },
    {
      "cell_type": "markdown",
      "metadata": {
        "id": "YT9Ol8eR65Ir"
      },
      "source": [
        "### Distância Euclidiana\n"
      ]
    },
    {
      "cell_type": "markdown",
      "metadata": {
        "id": "Z5_o8sR89JzA"
      },
      "source": [
        "![imagem1.png](data:image/png;base64,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)"
      ]
    },
    {
      "cell_type": "code",
      "metadata": {
        "id": "c6iOAYVo8rT1"
      },
      "source": [
        "from math import sqrt"
      ],
      "execution_count": 21,
      "outputs": []
    },
    {
      "cell_type": "code",
      "metadata": {
        "id": "fUgI33708vyc"
      },
      "source": [
        "def euclidiana(base, usuario1, usuario2):\n",
        "  si = {}\n",
        "  for item in base[usuario1]:\n",
        "    if item in base[usuario2]: si[item] =1\n",
        "  \n",
        "  if len(si) == 0: return 0\n",
        "\n",
        "  # Cálculo da diferença entre os itens por usuários, se forem comuns.\n",
        "  soma = sum([pow(base[usuario1][item] - base[usuario2][item], 2)\n",
        "              for item in base[usuario1] if item in base[usuario2]])\n",
        "  \n",
        "  return 1/(1 + sqrt(soma))\n"
      ],
      "execution_count": 22,
      "outputs": []
    },
    {
      "cell_type": "code",
      "metadata": {
        "id": "CJKhcgoKAlSA"
      },
      "source": [
        "def getSimilares(base, usuario):\n",
        "  similaridade = [(euclidiana(base, usuario, outro), outro) for outro in base if outro != usuario]\n",
        "  similaridade.sort()\n",
        "  similaridade.reverse()\n",
        "  return similaridade[0:30]"
      ],
      "execution_count": 62,
      "outputs": []
    },
    {
      "cell_type": "code",
      "metadata": {
        "id": "P421lZ23CHcW"
      },
      "source": [
        "def getRecomendacoes(base, usuario):\n",
        "  totais = {}\n",
        "  somaSimilaridades = {}\n",
        "  for outro in base:\n",
        "    if outro == usuario: continue\n",
        "    similaridade = euclidiana(base, usuario, outro)\n",
        "\n",
        "    if similaridade <= 0: continue\n",
        "\n",
        "    for item in base[outro]:\n",
        "      if item not in base[usuario]:\n",
        "        totais.setdefault(item, 0)\n",
        "        totais[item] += base[outro][item] * similaridade\n",
        "        somaSimilaridades.setdefault(item, 0)\n",
        "        somaSimilaridades[item] += similaridade\n",
        "  \n",
        "  rankings = [(total / somaSimilaridades[item], item) for item, total in totais.items()]\n",
        "  rankings.sort()\n",
        "  rankings.reverse()\n",
        "  return rankings[0:30]\n",
        "\n"
      ],
      "execution_count": 63,
      "outputs": []
    },
    {
      "cell_type": "code",
      "metadata": {
        "colab": {
          "base_uri": "https://localhost:8080/"
        },
        "id": "WBNiq43aG5p1",
        "outputId": "735b5fb2-69c5-493b-a9b6-8300e3174031"
      },
      "source": [
        "# Retorna a similaridade entre os usuários\n",
        "euclidiana(avaliacoesUsuario, 'Pedro', 'Janaina')"
      ],
      "execution_count": 25,
      "outputs": [
        {
          "output_type": "execute_result",
          "data": {
            "text/plain": [
              "0.32037724101704074"
            ]
          },
          "metadata": {
            "tags": []
          },
          "execution_count": 25
        }
      ]
    },
    {
      "cell_type": "code",
      "metadata": {
        "colab": {
          "base_uri": "https://localhost:8080/"
        },
        "id": "K_fC_j2cT16C",
        "outputId": "e82fe14d-2bd5-41f3-d7a8-e9a16c74eed4"
      },
      "source": [
        "# Retorna a similaridade entre os filmes\n",
        "euclidiana(avaliacoesFilme, 'Star Wars', 'Star Trek')"
      ],
      "execution_count": 26,
      "outputs": [
        {
          "output_type": "execute_result",
          "data": {
            "text/plain": [
              "0.2708131845707603"
            ]
          },
          "metadata": {
            "tags": []
          },
          "execution_count": 26
        }
      ]
    },
    {
      "cell_type": "code",
      "metadata": {
        "colab": {
          "base_uri": "https://localhost:8080/"
        },
        "id": "diuDm7rUT7SB",
        "outputId": "eedcf44f-6caf-4507-b467-842f43d2ead5"
      },
      "source": [
        "# Retorna a similaridade entre o usuário e todos os outros usuários\n",
        "getSimilares(avaliacoesUsuario, 'Pedro')"
      ],
      "execution_count": 27,
      "outputs": [
        {
          "output_type": "execute_result",
          "data": {
            "text/plain": [
              "[(0.5358983848622454, 'Claudia'),\n",
              " (0.4721359549995794, 'Ana'),\n",
              " (0.38742588672279304, 'Leonardo'),\n",
              " (0.38742588672279304, 'Adriano'),\n",
              " (0.3405424265831667, 'Marcos'),\n",
              " (0.32037724101704074, 'Janaina')]"
            ]
          },
          "metadata": {
            "tags": []
          },
          "execution_count": 27
        }
      ]
    },
    {
      "cell_type": "code",
      "metadata": {
        "colab": {
          "base_uri": "https://localhost:8080/"
        },
        "id": "vnlacKm2T_QH",
        "outputId": "facc9c57-9b89-4211-93b8-5354034dad62"
      },
      "source": [
        "# Retorna a similaridade entre o filme e todos os outros filmes\n",
        "getSimilares(avaliacoesFilme, 'O Ultimato Bourne')"
      ],
      "execution_count": 28,
      "outputs": [
        {
          "output_type": "execute_result",
          "data": {
            "text/plain": [
              "[(0.3761785115301142, 'Exterminador do Futuro'),\n",
              " (0.3567891723253309, 'Freddy x Jason'),\n",
              " (0.3266316347104093, 'Star Wars'),\n",
              " (0.32037724101704074, 'Star Trek'),\n",
              " (0.1886378647726465, 'Norbit')]"
            ]
          },
          "metadata": {
            "tags": []
          },
          "execution_count": 28
        }
      ]
    },
    {
      "cell_type": "code",
      "metadata": {
        "colab": {
          "base_uri": "https://localhost:8080/"
        },
        "id": "HO207mjpUVi9",
        "outputId": "a6539e27-dd46-4274-dc55-3451fcde711c"
      },
      "source": [
        "getRecomendacoes(avaliacoesUsuario, 'Leonardo')"
      ],
      "execution_count": 29,
      "outputs": [
        {
          "output_type": "execute_result",
          "data": {
            "text/plain": [
              "[(3.457128694491423, 'Star Wars'),\n",
              " (2.778584003814924, 'Freddy x Jason'),\n",
              " (2.422482042361917, 'Star Trek')]"
            ]
          },
          "metadata": {
            "tags": []
          },
          "execution_count": 29
        }
      ]
    },
    {
      "cell_type": "markdown",
      "metadata": {
        "id": "Nzbm6vm2Zw64"
      },
      "source": [
        "MovieLens"
      ]
    },
    {
      "cell_type": "markdown",
      "metadata": {
        "id": "6KzW1Vs9fNMi"
      },
      "source": [
        "Usando a base de dados de 27M de avaliações, 58K filmes e 280.000 usuários"
      ]
    },
    {
      "cell_type": "code",
      "metadata": {
        "id": "PupuLDpdd6w7"
      },
      "source": [
        "def carregaMovieLens(path='/content/drive/MyDrive/MovieLens'):\n",
        "\n",
        "  filmes = {}\n",
        "  for linha in open(path + '/movies.csv'):\n",
        "    (id, titulo) = linha.split(',')[0:2]\n",
        "    filmes[id] = titulo\n",
        "\n",
        "\n",
        "  base = {}\n",
        "  for linha in open(path + '/ratings.csv'):\n",
        "    (usuario, idFilme, notaFilme) = linha.split(',')[0:3]\n",
        "    base.setdefault(usuario, {})\n",
        "    base[usuario][filmes[idFilme]] = float(notaFilme)\n",
        "  return base"
      ],
      "execution_count": 58,
      "outputs": []
    },
    {
      "cell_type": "code",
      "metadata": {
        "id": "9kGClOzqUgiD"
      },
      "source": [
        "base = carregaMovieLens()"
      ],
      "execution_count": 60,
      "outputs": []
    },
    {
      "cell_type": "code",
      "metadata": {
        "colab": {
          "base_uri": "https://localhost:8080/"
        },
        "id": "rVuSwj13ZzWS",
        "outputId": "c0433413-6e64-44ef-9ef1-d9519aa5c9f6"
      },
      "source": [
        "getSimilares(base, '757')"
      ],
      "execution_count": 69,
      "outputs": [
        {
          "output_type": "execute_result",
          "data": {
            "text/plain": [
              "[(1.0, '99997'),\n",
              " (1.0, '99987'),\n",
              " (1.0, '99980'),\n",
              " (1.0, '99929'),\n",
              " (1.0, '99918'),\n",
              " (1.0, '99911'),\n",
              " (1.0, '99901'),\n",
              " (1.0, '99900'),\n",
              " (1.0, '99845'),\n",
              " (1.0, '99796'),\n",
              " (1.0, '99770'),\n",
              " (1.0, '99749'),\n",
              " (1.0, '99743'),\n",
              " (1.0, '99679'),\n",
              " (1.0, '99660'),\n",
              " (1.0, '99651'),\n",
              " (1.0, '99649'),\n",
              " (1.0, '99616'),\n",
              " (1.0, '99583'),\n",
              " (1.0, '99582'),\n",
              " (1.0, '99573'),\n",
              " (1.0, '99559'),\n",
              " (1.0, '99530'),\n",
              " (1.0, '99522'),\n",
              " (1.0, '99492'),\n",
              " (1.0, '9948'),\n",
              " (1.0, '99463'),\n",
              " (1.0, '99444'),\n",
              " (1.0, '99424'),\n",
              " (1.0, '99412')]"
            ]
          },
          "metadata": {
            "tags": []
          },
          "execution_count": 69
        }
      ]
    },
    {
      "cell_type": "code",
      "metadata": {
        "colab": {
          "base_uri": "https://localhost:8080/"
        },
        "id": "C7NPgwyEiu4r",
        "outputId": "eedaea01-fe8f-4813-a32a-eadab7da3a04"
      },
      "source": [
        "getRecomendacoes(base, '757')"
      ],
      "execution_count": 70,
      "outputs": [
        {
          "output_type": "execute_result",
          "data": {
            "text/plain": [
              "[(5.000000000000001, 'What Remains of Us (2004)'),\n",
              " (5.000000000000001, 'Therese (1986)'),\n",
              " (5.000000000000001, 'The World of Us (2016)'),\n",
              " (5.000000000000001, 'The Lion Sleeps Tonight (2018)'),\n",
              " (5.000000000000001, 'The King and Queen of Moonlight Bay (2003)'),\n",
              " (5.000000000000001, 'The Far Pavilions (1984)'),\n",
              " (5.000000000000001, 'Max My Love (1986)'),\n",
              " (5.000000000000001, 'Brad Williams: Daddy Issues (2016)'),\n",
              " (5.0, 'Švestka (1997)'),\n",
              " (5.0, 'České nebe (2008)'),\n",
              " (5.0, '¡Cuba Sí! (1961)'),\n",
              " (5.0, 'Zig Zag Story (1983)'),\n",
              " (5.0, 'Zapatlela (1993)'),\n",
              " (5.0, \"You're Human Like the Rest of Them (1967)\"),\n",
              " (5.0, 'You Were Meant for Me (1948)'),\n",
              " (5.0, 'You Cast A Spell On Me (2015)'),\n",
              " (5.0, 'Women from the Lake of Scented Souls (1993)'),\n",
              " (5.0, 'Wolfguy - Enraged Lycanthrope (1975)'),\n",
              " (5.0, 'Witness for the Prosecution (1982)'),\n",
              " (5.0, 'Without Family (1984)'),\n",
              " (5.0, 'Windstorm 2 (2015)'),\n",
              " (5.0, 'Who Killed Chea Vichea? (2010)'),\n",
              " (5.0, 'White Roses (1943)'),\n",
              " (5.0, 'Welcome to Australia (1999)'),\n",
              " (5.0, 'Weed (1972)'),\n",
              " (5.0, 'We Are Mountains (1969)'),\n",
              " (5.0, 'Warning: This Drug May Kill You (2017)'),\n",
              " (5.0, 'Warm Summer Rain (1989)'),\n",
              " (5.0, 'War Arrow (1954)'),\n",
              " (5.0, 'Waltz Across Texas (1982)')]"
            ]
          },
          "metadata": {
            "tags": []
          },
          "execution_count": 70
        }
      ]
    },
    {
      "cell_type": "code",
      "metadata": {
        "id": "PVlVmhpzjWUq"
      },
      "source": [
        ""
      ],
      "execution_count": null,
      "outputs": []
    }
  ]
}